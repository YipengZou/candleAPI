{
 "cells": [
  {
   "cell_type": "code",
   "execution_count": 2,
   "metadata": {},
   "outputs": [],
   "source": [
    "%matplotlib widget"
   ]
  },
  {
   "cell_type": "code",
   "execution_count": 10,
   "metadata": {},
   "outputs": [
    {
     "data": {
      "application/vnd.jupyter.widget-view+json": {
       "model_id": "e3c87bc9bf89428e998283766d91c822",
       "version_major": 2,
       "version_minor": 0
      },
      "text/plain": [
       "Canvas(toolbar=Toolbar(toolitems=[('Home', 'Reset original view', 'home', 'home'), ('Back', 'Back to previous …"
      ]
     },
     "metadata": {},
     "output_type": "display_data"
    }
   ],
   "source": [
    "import numpy as np\n",
    "import matplotlib.pyplot as plt\n",
    "from matplotlib.widgets import RadioButtons\n",
    "\n",
    "t = np.arange(0.0, 2.0, 0.01)\n",
    "s0 = np.sin(2*np.pi*t)\n",
    "s1 = 1\n",
    "s2 = np.sin(8*np.pi*t)\n",
    "# 绘制曲线\n",
    "fig, ax = plt.subplots()\n",
    "l, = ax.plot(t, s0, lw=2, color='red')\n",
    "plt.subplots_adjust(left=0.3)\n",
    "# 构造单选框1\n",
    "axcolor = 'lightgoldenrodyellow'\n",
    "rax = plt.axes([0.05, 0.7, 0.15, 0.15], facecolor=axcolor)\n",
    "radio = RadioButtons(rax, ('2 Hz', '4 Hz', '8 Hz'))\n",
    "\n",
    "# 编写回调函数，并与单选框1绑定\n",
    "def hzfunc(label):\n",
    "    hzdict = {'2 Hz': s0, '4 Hz': s1, '8 Hz': s2}\n",
    "    ydata = hzdict[label]\n",
    "    l.set_ydata(ydata)\n",
    "    # 注意！matplotlib中出现窗体之后的交互中如果修改图像需要重绘图像\n",
    "    plt.draw()\n",
    "radio.on_clicked(hzfunc)\n",
    "# 构造单选框2\n",
    "rax = plt.axes([0.05, 0.4, 0.15, 0.15], facecolor=axcolor)\n",
    "radio2 = RadioButtons(rax, ('red', 'blue', 'green'))\n",
    "\n",
    "# 编写回调函数，并与单选框2绑定\n",
    "def colorfunc(label):\n",
    "    l.set_color(label)\n",
    "    plt.draw()\n",
    "radio2.on_clicked(colorfunc)\n",
    "# 构造单选框3\n",
    "rax = plt.axes([0.05, 0.1, 0.15, 0.15], facecolor=axcolor)\n",
    "radio3 = RadioButtons(rax, ('-', '--', '-.', 'steps', ':'))\n",
    "\n",
    "# 编写回调函数，并与单选框3绑定\n",
    "def stylefunc(label):\n",
    "    l.set_linestyle(label)\n",
    "    plt.draw()\n",
    "radio3.on_clicked(stylefunc)\n",
    "\n",
    "plt.show()"
   ]
  },
  {
   "cell_type": "code",
   "execution_count": 4,
   "metadata": {},
   "outputs": [
    {
     "data": {
      "application/vnd.jupyter.widget-view+json": {
       "model_id": "66f9d797326b43388b6e793ff16dc1e2",
       "version_major": 2,
       "version_minor": 0
      },
      "text/plain": [
       "Canvas(toolbar=Toolbar(toolitems=[('Home', 'Reset original view', 'home', 'home'), ('Back', 'Back to previous …"
      ]
     },
     "metadata": {},
     "output_type": "display_data"
    }
   ],
   "source": [
    "from matplotlib import pyplot as plt\n",
    "import mplfinance as mpf\n",
    "\n",
    "class LineBuilder:\n",
    "    def __init__(self):\n",
    "        fig = mpf.figure()\n",
    "        ax = fig.add_subplot(111)\n",
    "        ax.set_title('click to build line segments')\n",
    "        line, = ax.plot([0], [0])  # empty line\n",
    "        self.line = line\n",
    "        self.xs = list(line.get_xdata())\n",
    "        self.ys = list(line.get_ydata())\n",
    "        self.cid = line.figure.canvas.mpl_connect('button_press_event', self.click)\n",
    "\n",
    "    def click(self, event):\n",
    "        print('click', event)\n",
    "        if event.inaxes!=self.line.axes: return\n",
    "        self.xs.append(event.xdata)\n",
    "        self.ys.append(event.ydata)\n",
    "        self.line.set_data(self.xs, self.ys)\n",
    "        self.line.figure.canvas.draw()\n",
    "\n",
    "\n",
    "linebuilder = LineBuilder()\n"
   ]
  },
  {
   "cell_type": "code",
   "execution_count": 3,
   "metadata": {},
   "outputs": [
    {
     "data": {
      "application/vnd.jupyter.widget-view+json": {
       "model_id": "75365d52a5844425b6aae1b52be1ec1a",
       "version_major": 2,
       "version_minor": 0
      },
      "text/plain": [
       "Canvas(toolbar=Toolbar(toolitems=[('Home', 'Reset original view', 'home', 'home'), ('Back', 'Back to previous …"
      ]
     },
     "metadata": {},
     "output_type": "display_data"
    }
   ],
   "source": [
    "from matplotlib import pyplot as plt\n",
    "\n",
    "class LineBuilder:\n",
    "    def __init__(self, line):\n",
    "        self.line = line\n",
    "        self.xs = list(line.get_xdata())\n",
    "        self.ys = list(line.get_ydata())\n",
    "        self.cid = line.figure.canvas.mpl_connect('button_press_event', self)\n",
    "\n",
    "    def __call__(self, event):\n",
    "        print('click', event)\n",
    "        if event.inaxes!=self.line.axes: return\n",
    "        self.xs.append(event.xdata)\n",
    "        self.ys.append(event.ydata)\n",
    "        self.line.set_data(self.xs, self.ys)\n",
    "        self.line.figure.canvas.draw()\n",
    "\n",
    "fig, ax = plt.subplots()\n",
    "ax.set_title('click to build line segments')\n",
    "line, = ax.plot([0], [0])  # empty line\n",
    "linebuilder = LineBuilder(line)\n",
    "\n",
    "plt.show()"
   ]
  },
  {
   "cell_type": "code",
   "execution_count": null,
   "metadata": {},
   "outputs": [],
   "source": []
  }
 ],
 "metadata": {
  "kernelspec": {
   "display_name": "Python 3",
   "language": "python",
   "name": "python3"
  },
  "language_info": {
   "codemirror_mode": {
    "name": "ipython",
    "version": 3
   },
   "file_extension": ".py",
   "mimetype": "text/x-python",
   "name": "python",
   "nbconvert_exporter": "python",
   "pygments_lexer": "ipython3",
   "version": "3.8.5"
  }
 },
 "nbformat": 4,
 "nbformat_minor": 4
}
