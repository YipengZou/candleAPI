{
 "cells": [
  {
   "cell_type": "code",
   "execution_count": null,
   "metadata": {},
   "outputs": [],
   "source": [
    "import ipython_importer\n",
    "from _loadData import loadData\n",
    "import pandas as pd\n",
    "import datetime\n",
    "import dask.dataframe as dd\n",
    "\n",
    "def get_data(security: str\n",
    ", unit: str\n",
    ", start_time: datetime.datetime\n",
    ", end_time: datetime.datetime) -> pd.DataFrame:\n",
    "    df_use = loadData(security, unit).data_combine()\n",
    "    df_use = df_use[\n",
    "        (df_use.index >= start_time) & \\\n",
    "        (df_use.index <= end_time)\n",
    "    ]\n",
    "    return df_use"
   ]
  },
  {
   "cell_type": "code",
   "execution_count": null,
   "metadata": {},
   "outputs": [],
   "source": [
    "security = \"000016.SZ\"\n",
    "unit = \"60S\"\n",
    "start_time = datetime.datetime(2021, 7, 6, 10, 0, 0)\n",
    "end_time = datetime.datetime(2021, 7, 6, 11, 0, 0)\n",
    "get_data(security, unit, start_time, end_time)"
   ]
  }
 ],
 "metadata": {
  "interpreter": {
   "hash": "bb4c55bb14f6dabb6ff455a834dac2b2dcc34f29d403eee1e76b508f6ea97443"
  },
  "kernelspec": {
   "display_name": "Python 3.8.12 64-bit ('candle': conda)",
   "language": "python",
   "name": "python3"
  },
  "language_info": {
   "codemirror_mode": {
    "name": "ipython",
    "version": 3
   },
   "file_extension": ".py",
   "mimetype": "text/x-python",
   "name": "python",
   "nbconvert_exporter": "python",
   "pygments_lexer": "ipython3",
   "version": "3.8.12"
  },
  "orig_nbformat": 4
 },
 "nbformat": 4,
 "nbformat_minor": 2
}
