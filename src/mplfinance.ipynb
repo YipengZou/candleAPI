{
 "cells": [
  {
   "cell_type": "code",
   "execution_count": null,
   "metadata": {},
   "outputs": [],
   "source": [
    "%matplotlib widget\n",
    "import ipython_importer\n",
    "from _loadData import loadData\n",
    "from _interCandle import interCandle\n",
    "from matplotlib.widgets import TextBox\n",
    "import matplotlib.pyplot as plt\n",
    "from matplotlib.widgets import RadioButtons\n",
    "def freq_adj(lable):\n",
    "    hzdict = {'180S':\"180S\",'300S': '300S', '360S':\"360S\",'600S':\"600S\"}\n",
    "    code = \"000001.SZ\"\n",
    "    candle.ax1.clear()\n",
    "    candle.ax2.clear()\n",
    "    candle.ax3.clear()\n",
    "    freq = hzdict[lable]\n",
    "    test2 = loadData(code, freq)\n",
    "    candle.refresh_plot(test2.df_concat)\n",
    "    candle.refresh_texts()\n",
    "    plt.draw()\n",
    "\n",
    "def stock_adj(text):\n",
    "    code = text\n",
    "    candle.ax1.clear()\n",
    "    candle.ax2.clear()\n",
    "    candle.ax3.clear()\n",
    "    test2 = loadData(code, freq)\n",
    "    candle.refresh_plot(test2.df_concat)\n",
    "    candle.refresh_texts()\n",
    "    plt.draw()\n",
    "\n",
    "code = input(\"请输入要查询的股票代码(例如000001.SZ): \")\n",
    "freq = \"180S\"\n",
    "test1 = loadData(code, freq)\n",
    "data_use = test1.df_concat\n",
    "candle = interCandle(test1.data_show, code)\n",
    "candle.refresh_plot(data_use)\n",
    "candle.refresh_texts()\n",
    "\n",
    "\"\"\"\n",
    "设置单选框选择频率\n",
    "\"\"\"\n",
    "\n",
    "rax = plt.axes([0.8, 0.85, 0.1, 0.1], facecolor='lightgrey', alpha=0.5)\n",
    "radio = RadioButtons(rax, ('180S', '300S',  '360S', \"600S\"))\n",
    "radio.on_clicked(freq_adj)\n",
    "\"\"\"\n",
    "设置输入框选择股票\n",
    "\"\"\"\n",
    "initial_text= code\n",
    "axbox = plt.axes([0.45, 0.93, 0.15, 0.04])\n",
    "text_box = TextBox(axbox, 'Stcok Code: ', initial=initial_text)\n",
    "text_box.on_submit(stock_adj)"
   ]
  }
 ],
 "metadata": {
  "kernelspec": {
   "display_name": "Python 3",
   "language": "python",
   "name": "python3"
  },
  "language_info": {
   "codemirror_mode": {
    "name": "ipython",
    "version": 3
   },
   "file_extension": ".py",
   "mimetype": "text/x-python",
   "name": "python",
   "nbconvert_exporter": "python",
   "pygments_lexer": "ipython3",
   "version": "3.8.12"
  }
 },
 "nbformat": 4,
 "nbformat_minor": 4
}
