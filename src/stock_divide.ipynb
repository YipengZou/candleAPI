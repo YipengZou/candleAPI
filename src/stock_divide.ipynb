{
 "cells": [
  {
   "cell_type": "markdown",
   "metadata": {},
   "source": [
    "# 用于拆分"
   ]
  },
  {
   "cell_type": "code",
   "execution_count": null,
   "metadata": {},
   "outputs": [],
   "source": [
    "import numpy as np\n",
    "import pandas as pd\n",
    "import time\n",
    "file_path = '../data/originData.csv'"
   ]
  },
  {
   "cell_type": "code",
   "execution_count": null,
   "metadata": {},
   "outputs": [],
   "source": [
    "class stock_divide(object):\n",
    "    def __init__(self):\n",
    "        self.file_path = '../data/originData.csv'\n",
    "    \n",
    "    def get_colnames(self):\n",
    "        \"\"\"读取源文件第一行，获取所有列名\"\"\"\n",
    "        self.colNames = pd.read_csv(file_path, nrows = 1).columns\n",
    "    \n",
    "    def getStcokList(self):\n",
    "        \"\"\"获取当日所有的股票代码，去除重复后以pickle形式保存(series)\"\"\"\n",
    "        stockDf = pd.read_csv(self.file_path, usecols = ['tickerName'])\n",
    "        self.stockList = stockDf['tickerName'].drop_duplicates() \n",
    "        self.stockList.to_pickle(\"../data/stockDivideData/uniqueStockList.pkl\")"
   ]
  },
  {
   "cell_type": "code",
   "execution_count": null,
   "metadata": {},
   "outputs": [],
   "source": [
    "stockList = pd.read_pickle(\"../data/stockDivideData/uniqueStockList.pkl\")\n",
    "time_start0 = time.perf_counter()\n",
    "reader = pd.read_csv(file_path, sep=',', chunksize=1000000)\n",
    "print(\"Time spent for reading file is: %.4f ms\" %((time.perf_counter() - time_start0)*1000))\n",
    "for i, chunk in enumerate(reader):\n",
    "    for stockCode in [\"000001.SZ\", \"000002.SZ\", \"600234.SH\", \"688123.SH\", \"300123.SZ\"]:\n",
    "        time_start1 = time.perf_counter()\n",
    "        print(\"start... \", i)\n",
    "        time_start = time.perf_counter()\n",
    "        stockFilePath = \"../data/stockDivideData/StockData/\" + stockCode + \".csv\"\n",
    "        if(i==0):\n",
    "            chunk[chunk['tickerName']==stockCode].to_csv(stockFilePath)\n",
    "        else:\n",
    "            chunk[chunk['tickerName']==stockCode].to_csv(stockFilePath, mode=\"a\", header=False)\n",
    "        print(\"***finish \" , i, \" th wrting, the length of chunk is: \", len(chunk))\n",
    "        print(\"***Time spent for reading file is: %.4f ms\" %((time.perf_counter() - time_start)*1000))\n",
    "print(\"Complete writing! Total Time spent is: %.4f s!\"%((time.perf_counter() - time_start0)))"
   ]
  }
 ],
 "metadata": {
  "kernelspec": {
   "display_name": "Python 3",
   "language": "python",
   "name": "python3"
  },
  "language_info": {
   "codemirror_mode": {
    "name": "ipython",
    "version": 3
   },
   "file_extension": ".py",
   "mimetype": "text/x-python",
   "name": "python",
   "nbconvert_exporter": "python",
   "pygments_lexer": "ipython3",
   "version": "3.8.12"
  }
 },
 "nbformat": 4,
 "nbformat_minor": 4
}
